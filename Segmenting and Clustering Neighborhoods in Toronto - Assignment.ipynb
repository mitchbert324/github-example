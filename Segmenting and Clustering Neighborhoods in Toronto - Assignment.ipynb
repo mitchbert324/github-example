{
 "cells": [
  {
   "cell_type": "markdown",
   "metadata": {},
   "source": [
    "## Segmenting and Clustering Neighborhoods in Toronto"
   ]
  },
  {
   "cell_type": "code",
   "execution_count": 1,
   "metadata": {
    "colab": {},
    "colab_type": "code",
    "id": "siQFEcdbbJx4"
   },
   "outputs": [],
   "source": [
    "import pandas as pd"
   ]
  },
  {
   "cell_type": "markdown",
   "metadata": {},
   "source": [
    "### This loads the Postal Code data into a dataframe\n",
    "#### Then does some cleaning"
   ]
  },
  {
   "cell_type": "code",
   "execution_count": 2,
   "metadata": {
    "colab": {},
    "colab_type": "code",
    "id": "-J4zm6q-bp_U"
   },
   "outputs": [],
   "source": [
    "url = 'https://en.wikipedia.org/wiki/List_of_postal_codes_of_Canada:_M'\n",
    "df = pd.read_html(url)\n",
    "data = pd.DataFrame(df[0])"
   ]
  },
  {
   "cell_type": "code",
   "execution_count": 3,
   "metadata": {
    "colab": {},
    "colab_type": "code",
    "id": "y9x7JfhXdlff"
   },
   "outputs": [],
   "source": [
    "data.columns = ['PostalCode', 'Borough', 'Neighborhood']\n",
    "#data.head()"
   ]
  },
  {
   "cell_type": "code",
   "execution_count": 4,
   "metadata": {
    "colab": {
     "base_uri": "https://localhost:8080/",
     "height": 201
    },
    "colab_type": "code",
    "executionInfo": {
     "elapsed": 909,
     "status": "ok",
     "timestamp": 1573442956413,
     "user": {
      "displayName": "Mitchell Thomas",
      "photoUrl": "https://lh3.googleusercontent.com/a-/AAuE7mCAea05yIBE2ty3kfQYaOETJVZkwrd0qESEdVN22w=s64",
      "userId": "17288496044928286486"
     },
     "user_tz": 300
    },
    "id": "SXmt4I11e6_J",
    "outputId": "708decd8-e605-4427-ece9-0c468f6e9ca6"
   },
   "outputs": [
    {
     "data": {
      "text/html": [
       "<div>\n",
       "<style scoped>\n",
       "    .dataframe tbody tr th:only-of-type {\n",
       "        vertical-align: middle;\n",
       "    }\n",
       "\n",
       "    .dataframe tbody tr th {\n",
       "        vertical-align: top;\n",
       "    }\n",
       "\n",
       "    .dataframe thead th {\n",
       "        text-align: right;\n",
       "    }\n",
       "</style>\n",
       "<table border=\"1\" class=\"dataframe\">\n",
       "  <thead>\n",
       "    <tr style=\"text-align: right;\">\n",
       "      <th></th>\n",
       "      <th>PostalCode</th>\n",
       "      <th>Borough</th>\n",
       "      <th>Neighborhood</th>\n",
       "    </tr>\n",
       "  </thead>\n",
       "  <tbody>\n",
       "    <tr>\n",
       "      <td>2</td>\n",
       "      <td>M3A</td>\n",
       "      <td>North York</td>\n",
       "      <td>Parkwoods</td>\n",
       "    </tr>\n",
       "    <tr>\n",
       "      <td>3</td>\n",
       "      <td>M4A</td>\n",
       "      <td>North York</td>\n",
       "      <td>Victoria Village</td>\n",
       "    </tr>\n",
       "    <tr>\n",
       "      <td>4</td>\n",
       "      <td>M5A</td>\n",
       "      <td>Downtown Toronto</td>\n",
       "      <td>Harbourfront</td>\n",
       "    </tr>\n",
       "    <tr>\n",
       "      <td>5</td>\n",
       "      <td>M5A</td>\n",
       "      <td>Downtown Toronto</td>\n",
       "      <td>Regent Park</td>\n",
       "    </tr>\n",
       "    <tr>\n",
       "      <td>6</td>\n",
       "      <td>M6A</td>\n",
       "      <td>North York</td>\n",
       "      <td>Lawrence Heights</td>\n",
       "    </tr>\n",
       "  </tbody>\n",
       "</table>\n",
       "</div>"
      ],
      "text/plain": [
       "  PostalCode           Borough      Neighborhood\n",
       "2        M3A        North York         Parkwoods\n",
       "3        M4A        North York  Victoria Village\n",
       "4        M5A  Downtown Toronto      Harbourfront\n",
       "5        M5A  Downtown Toronto       Regent Park\n",
       "6        M6A        North York  Lawrence Heights"
      ]
     },
     "execution_count": 4,
     "metadata": {},
     "output_type": "execute_result"
    }
   ],
   "source": [
    "data_b = data[data['Borough'] != 'Not assigned']\n",
    "data_b.head()"
   ]
  },
  {
   "cell_type": "markdown",
   "metadata": {},
   "source": [
    "### This lambda function groups by the PostalCode and Borough columns and the combines the Neighborhoods into a comma separated string"
   ]
  },
  {
   "cell_type": "code",
   "execution_count": 5,
   "metadata": {
    "colab": {
     "base_uri": "https://localhost:8080/",
     "height": 201
    },
    "colab_type": "code",
    "executionInfo": {
     "elapsed": 942,
     "status": "ok",
     "timestamp": 1573447174947,
     "user": {
      "displayName": "Mitchell Thomas",
      "photoUrl": "https://lh3.googleusercontent.com/a-/AAuE7mCAea05yIBE2ty3kfQYaOETJVZkwrd0qESEdVN22w=s64",
      "userId": "17288496044928286486"
     },
     "user_tz": 300
    },
    "id": "WpJIhVsGkKFS",
    "outputId": "b3a370e5-68bc-4192-a681-47646672e530"
   },
   "outputs": [
    {
     "data": {
      "text/html": [
       "<div>\n",
       "<style scoped>\n",
       "    .dataframe tbody tr th:only-of-type {\n",
       "        vertical-align: middle;\n",
       "    }\n",
       "\n",
       "    .dataframe tbody tr th {\n",
       "        vertical-align: top;\n",
       "    }\n",
       "\n",
       "    .dataframe thead th {\n",
       "        text-align: right;\n",
       "    }\n",
       "</style>\n",
       "<table border=\"1\" class=\"dataframe\">\n",
       "  <thead>\n",
       "    <tr style=\"text-align: right;\">\n",
       "      <th></th>\n",
       "      <th>PostalCode</th>\n",
       "      <th>Borough</th>\n",
       "      <th>Neighborhood</th>\n",
       "    </tr>\n",
       "  </thead>\n",
       "  <tbody>\n",
       "    <tr>\n",
       "      <td>0</td>\n",
       "      <td>M3A</td>\n",
       "      <td>North York</td>\n",
       "      <td>Parkwoods</td>\n",
       "    </tr>\n",
       "    <tr>\n",
       "      <td>1</td>\n",
       "      <td>M4A</td>\n",
       "      <td>North York</td>\n",
       "      <td>Victoria Village</td>\n",
       "    </tr>\n",
       "    <tr>\n",
       "      <td>2</td>\n",
       "      <td>M5A</td>\n",
       "      <td>Downtown Toronto</td>\n",
       "      <td>Harbourfront, Regent Park</td>\n",
       "    </tr>\n",
       "    <tr>\n",
       "      <td>3</td>\n",
       "      <td>M6A</td>\n",
       "      <td>North York</td>\n",
       "      <td>Lawrence Heights, Lawrence Manor</td>\n",
       "    </tr>\n",
       "    <tr>\n",
       "      <td>4</td>\n",
       "      <td>M7A</td>\n",
       "      <td>Queen's Park</td>\n",
       "      <td>Not assigned</td>\n",
       "    </tr>\n",
       "  </tbody>\n",
       "</table>\n",
       "</div>"
      ],
      "text/plain": [
       "  PostalCode           Borough                      Neighborhood\n",
       "0        M3A        North York                         Parkwoods\n",
       "1        M4A        North York                  Victoria Village\n",
       "2        M5A  Downtown Toronto         Harbourfront, Regent Park\n",
       "3        M6A        North York  Lawrence Heights, Lawrence Manor\n",
       "4        M7A      Queen's Park                      Not assigned"
      ]
     },
     "execution_count": 5,
     "metadata": {},
     "output_type": "execute_result"
    }
   ],
   "source": [
    "data_c = data_b.groupby(['PostalCode','Borough'], sort = False).agg(lambda x: ', '.join(x))\n",
    "data_d = data_c.reset_index()\n",
    "data_d.head()"
   ]
  },
  {
   "cell_type": "markdown",
   "metadata": {},
   "source": [
    "### This assigns Neighborhood values set to \"Not assigned\" to the Borough"
   ]
  },
  {
   "cell_type": "code",
   "execution_count": 6,
   "metadata": {
    "colab": {
     "base_uri": "https://localhost:8080/",
     "height": 201
    },
    "colab_type": "code",
    "executionInfo": {
     "elapsed": 512,
     "status": "ok",
     "timestamp": 1573447207887,
     "user": {
      "displayName": "Mitchell Thomas",
      "photoUrl": "https://lh3.googleusercontent.com/a-/AAuE7mCAea05yIBE2ty3kfQYaOETJVZkwrd0qESEdVN22w=s64",
      "userId": "17288496044928286486"
     },
     "user_tz": 300
    },
    "id": "V-OfBF8IvoJ6",
    "outputId": "7e7e7cbf-a0ab-4e94-a6bd-5aef716efd22"
   },
   "outputs": [
    {
     "data": {
      "text/html": [
       "<div>\n",
       "<style scoped>\n",
       "    .dataframe tbody tr th:only-of-type {\n",
       "        vertical-align: middle;\n",
       "    }\n",
       "\n",
       "    .dataframe tbody tr th {\n",
       "        vertical-align: top;\n",
       "    }\n",
       "\n",
       "    .dataframe thead th {\n",
       "        text-align: right;\n",
       "    }\n",
       "</style>\n",
       "<table border=\"1\" class=\"dataframe\">\n",
       "  <thead>\n",
       "    <tr style=\"text-align: right;\">\n",
       "      <th></th>\n",
       "      <th>PostalCode</th>\n",
       "      <th>Borough</th>\n",
       "      <th>Neighborhood</th>\n",
       "    </tr>\n",
       "  </thead>\n",
       "  <tbody>\n",
       "    <tr>\n",
       "      <td>0</td>\n",
       "      <td>M3A</td>\n",
       "      <td>North York</td>\n",
       "      <td>Parkwoods</td>\n",
       "    </tr>\n",
       "    <tr>\n",
       "      <td>1</td>\n",
       "      <td>M4A</td>\n",
       "      <td>North York</td>\n",
       "      <td>Victoria Village</td>\n",
       "    </tr>\n",
       "    <tr>\n",
       "      <td>2</td>\n",
       "      <td>M5A</td>\n",
       "      <td>Downtown Toronto</td>\n",
       "      <td>Harbourfront, Regent Park</td>\n",
       "    </tr>\n",
       "    <tr>\n",
       "      <td>3</td>\n",
       "      <td>M6A</td>\n",
       "      <td>North York</td>\n",
       "      <td>Lawrence Heights, Lawrence Manor</td>\n",
       "    </tr>\n",
       "    <tr>\n",
       "      <td>4</td>\n",
       "      <td>M7A</td>\n",
       "      <td>Queen's Park</td>\n",
       "      <td>Queen's Park</td>\n",
       "    </tr>\n",
       "  </tbody>\n",
       "</table>\n",
       "</div>"
      ],
      "text/plain": [
       "  PostalCode           Borough                      Neighborhood\n",
       "0        M3A        North York                         Parkwoods\n",
       "1        M4A        North York                  Victoria Village\n",
       "2        M5A  Downtown Toronto         Harbourfront, Regent Park\n",
       "3        M6A        North York  Lawrence Heights, Lawrence Manor\n",
       "4        M7A      Queen's Park                      Queen's Park"
      ]
     },
     "execution_count": 6,
     "metadata": {},
     "output_type": "execute_result"
    }
   ],
   "source": [
    "data_d.loc[data_d['Neighborhood'] == 'Not assigned', 'Neighborhood'] = data_d['Borough']\n",
    "data_d.head()"
   ]
  },
  {
   "cell_type": "code",
   "execution_count": 7,
   "metadata": {
    "colab": {
     "base_uri": "https://localhost:8080/",
     "height": 35
    },
    "colab_type": "code",
    "executionInfo": {
     "elapsed": 596,
     "status": "ok",
     "timestamp": 1573447274894,
     "user": {
      "displayName": "Mitchell Thomas",
      "photoUrl": "https://lh3.googleusercontent.com/a-/AAuE7mCAea05yIBE2ty3kfQYaOETJVZkwrd0qESEdVN22w=s64",
      "userId": "17288496044928286486"
     },
     "user_tz": 300
    },
    "id": "QUUegUCxw4h0",
    "outputId": "857a6462-11a8-44a3-f678-3a143bbb95e3"
   },
   "outputs": [
    {
     "data": {
      "text/plain": [
       "(103, 3)"
      ]
     },
     "execution_count": 7,
     "metadata": {},
     "output_type": "execute_result"
    }
   ],
   "source": [
    "data_d.shape"
   ]
  },
  {
   "cell_type": "markdown",
   "metadata": {},
   "source": [
    "### Then I pull in the Latitude + Longitude data into a dataframe\n",
    "#### I'm using the CSV because I can't get geocoder to work"
   ]
  },
  {
   "cell_type": "code",
   "execution_count": 8,
   "metadata": {
    "colab": {
     "base_uri": "https://localhost:8080/",
     "height": 201
    },
    "colab_type": "code",
    "executionInfo": {
     "elapsed": 4075,
     "status": "ok",
     "timestamp": 1573447925315,
     "user": {
      "displayName": "Mitchell Thomas",
      "photoUrl": "https://lh3.googleusercontent.com/a-/AAuE7mCAea05yIBE2ty3kfQYaOETJVZkwrd0qESEdVN22w=s64",
      "userId": "17288496044928286486"
     },
     "user_tz": 300
    },
    "id": "0szACOvSxTXZ",
    "outputId": "2b7351ee-7e58-4fbc-b216-20fb1d679709"
   },
   "outputs": [
    {
     "data": {
      "text/html": [
       "<div>\n",
       "<style scoped>\n",
       "    .dataframe tbody tr th:only-of-type {\n",
       "        vertical-align: middle;\n",
       "    }\n",
       "\n",
       "    .dataframe tbody tr th {\n",
       "        vertical-align: top;\n",
       "    }\n",
       "\n",
       "    .dataframe thead th {\n",
       "        text-align: right;\n",
       "    }\n",
       "</style>\n",
       "<table border=\"1\" class=\"dataframe\">\n",
       "  <thead>\n",
       "    <tr style=\"text-align: right;\">\n",
       "      <th></th>\n",
       "      <th>PostalCode</th>\n",
       "      <th>Latitude</th>\n",
       "      <th>Longitude</th>\n",
       "    </tr>\n",
       "  </thead>\n",
       "  <tbody>\n",
       "    <tr>\n",
       "      <td>0</td>\n",
       "      <td>M1B</td>\n",
       "      <td>43.806686</td>\n",
       "      <td>-79.194353</td>\n",
       "    </tr>\n",
       "    <tr>\n",
       "      <td>1</td>\n",
       "      <td>M1C</td>\n",
       "      <td>43.784535</td>\n",
       "      <td>-79.160497</td>\n",
       "    </tr>\n",
       "    <tr>\n",
       "      <td>2</td>\n",
       "      <td>M1E</td>\n",
       "      <td>43.763573</td>\n",
       "      <td>-79.188711</td>\n",
       "    </tr>\n",
       "    <tr>\n",
       "      <td>3</td>\n",
       "      <td>M1G</td>\n",
       "      <td>43.770992</td>\n",
       "      <td>-79.216917</td>\n",
       "    </tr>\n",
       "    <tr>\n",
       "      <td>4</td>\n",
       "      <td>M1H</td>\n",
       "      <td>43.773136</td>\n",
       "      <td>-79.239476</td>\n",
       "    </tr>\n",
       "  </tbody>\n",
       "</table>\n",
       "</div>"
      ],
      "text/plain": [
       "  PostalCode   Latitude  Longitude\n",
       "0        M1B  43.806686 -79.194353\n",
       "1        M1C  43.784535 -79.160497\n",
       "2        M1E  43.763573 -79.188711\n",
       "3        M1G  43.770992 -79.216917\n",
       "4        M1H  43.773136 -79.239476"
      ]
     },
     "execution_count": 8,
     "metadata": {},
     "output_type": "execute_result"
    }
   ],
   "source": [
    "url2 = 'https://cocl.us/Geospatial_data'\n",
    "\n",
    "ll = pd.DataFrame(pd.read_csv(url2))\n",
    "ll.columns = ['PostalCode', 'Latitude', 'Longitude']\n",
    "ll.head()\n"
   ]
  },
  {
   "cell_type": "markdown",
   "metadata": {},
   "source": [
    "### And then merge them together!"
   ]
  },
  {
   "cell_type": "code",
   "execution_count": 9,
   "metadata": {
    "colab": {
     "base_uri": "https://localhost:8080/",
     "height": 201
    },
    "colab_type": "code",
    "executionInfo": {
     "elapsed": 476,
     "status": "ok",
     "timestamp": 1573447942153,
     "user": {
      "displayName": "Mitchell Thomas",
      "photoUrl": "https://lh3.googleusercontent.com/a-/AAuE7mCAea05yIBE2ty3kfQYaOETJVZkwrd0qESEdVN22w=s64",
      "userId": "17288496044928286486"
     },
     "user_tz": 300
    },
    "id": "bbJibKqGx5IR",
    "outputId": "def01383-e038-48c9-9ee5-6ce55923f0b6"
   },
   "outputs": [
    {
     "data": {
      "text/html": [
       "<div>\n",
       "<style scoped>\n",
       "    .dataframe tbody tr th:only-of-type {\n",
       "        vertical-align: middle;\n",
       "    }\n",
       "\n",
       "    .dataframe tbody tr th {\n",
       "        vertical-align: top;\n",
       "    }\n",
       "\n",
       "    .dataframe thead th {\n",
       "        text-align: right;\n",
       "    }\n",
       "</style>\n",
       "<table border=\"1\" class=\"dataframe\">\n",
       "  <thead>\n",
       "    <tr style=\"text-align: right;\">\n",
       "      <th></th>\n",
       "      <th>PostalCode</th>\n",
       "      <th>Borough</th>\n",
       "      <th>Neighborhood</th>\n",
       "      <th>Latitude</th>\n",
       "      <th>Longitude</th>\n",
       "    </tr>\n",
       "  </thead>\n",
       "  <tbody>\n",
       "    <tr>\n",
       "      <td>0</td>\n",
       "      <td>M3A</td>\n",
       "      <td>North York</td>\n",
       "      <td>Parkwoods</td>\n",
       "      <td>43.753259</td>\n",
       "      <td>-79.329656</td>\n",
       "    </tr>\n",
       "    <tr>\n",
       "      <td>1</td>\n",
       "      <td>M4A</td>\n",
       "      <td>North York</td>\n",
       "      <td>Victoria Village</td>\n",
       "      <td>43.725882</td>\n",
       "      <td>-79.315572</td>\n",
       "    </tr>\n",
       "    <tr>\n",
       "      <td>2</td>\n",
       "      <td>M5A</td>\n",
       "      <td>Downtown Toronto</td>\n",
       "      <td>Harbourfront, Regent Park</td>\n",
       "      <td>43.654260</td>\n",
       "      <td>-79.360636</td>\n",
       "    </tr>\n",
       "    <tr>\n",
       "      <td>3</td>\n",
       "      <td>M6A</td>\n",
       "      <td>North York</td>\n",
       "      <td>Lawrence Heights, Lawrence Manor</td>\n",
       "      <td>43.718518</td>\n",
       "      <td>-79.464763</td>\n",
       "    </tr>\n",
       "    <tr>\n",
       "      <td>4</td>\n",
       "      <td>M7A</td>\n",
       "      <td>Queen's Park</td>\n",
       "      <td>Queen's Park</td>\n",
       "      <td>43.662301</td>\n",
       "      <td>-79.389494</td>\n",
       "    </tr>\n",
       "  </tbody>\n",
       "</table>\n",
       "</div>"
      ],
      "text/plain": [
       "  PostalCode           Borough                      Neighborhood   Latitude  \\\n",
       "0        M3A        North York                         Parkwoods  43.753259   \n",
       "1        M4A        North York                  Victoria Village  43.725882   \n",
       "2        M5A  Downtown Toronto         Harbourfront, Regent Park  43.654260   \n",
       "3        M6A        North York  Lawrence Heights, Lawrence Manor  43.718518   \n",
       "4        M7A      Queen's Park                      Queen's Park  43.662301   \n",
       "\n",
       "   Longitude  \n",
       "0 -79.329656  \n",
       "1 -79.315572  \n",
       "2 -79.360636  \n",
       "3 -79.464763  \n",
       "4 -79.389494  "
      ]
     },
     "execution_count": 9,
     "metadata": {},
     "output_type": "execute_result"
    }
   ],
   "source": [
    "data_e = data_d.merge(ll, on='PostalCode')\n",
    "data_e.head()"
   ]
  },
  {
   "cell_type": "markdown",
   "metadata": {},
   "source": [
    "### Importing Packages to create the map\n",
    "#### But I can't get geopy to install..."
   ]
  },
  {
   "cell_type": "code",
   "execution_count": 16,
   "metadata": {},
   "outputs": [
    {
     "name": "stdout",
     "output_type": "stream",
     "text": [
      "Requirement already satisfied: folium in c:\\users\\rothomas\\appdata\\local\\continuum\\anaconda3\\lib\\site-packages (0.10.0)\n",
      "Requirement already satisfied: branca>=0.3.0 in c:\\users\\rothomas\\appdata\\local\\continuum\\anaconda3\\lib\\site-packages (from folium) (0.3.1)\n",
      "Requirement already satisfied: jinja2>=2.9 in c:\\users\\rothomas\\appdata\\local\\continuum\\anaconda3\\lib\\site-packages (from folium) (2.10.3)\n",
      "Requirement already satisfied: requests in c:\\users\\rothomas\\appdata\\local\\continuum\\anaconda3\\lib\\site-packages (from folium) (2.22.0)\n",
      "Requirement already satisfied: numpy in c:\\users\\rothomas\\appdata\\local\\continuum\\anaconda3\\lib\\site-packages (from folium) (1.16.5)\n",
      "Requirement already satisfied: six in c:\\users\\rothomas\\appdata\\local\\continuum\\anaconda3\\lib\\site-packages (from branca>=0.3.0->folium) (1.12.0)\n",
      "Requirement already satisfied: MarkupSafe>=0.23 in c:\\users\\rothomas\\appdata\\local\\continuum\\anaconda3\\lib\\site-packages (from jinja2>=2.9->folium) (1.1.1)\n",
      "Requirement already satisfied: urllib3!=1.25.0,!=1.25.1,<1.26,>=1.21.1 in c:\\users\\rothomas\\appdata\\local\\continuum\\anaconda3\\lib\\site-packages (from requests->folium) (1.24.2)\n",
      "Requirement already satisfied: idna<2.9,>=2.5 in c:\\users\\rothomas\\appdata\\local\\continuum\\anaconda3\\lib\\site-packages (from requests->folium) (2.8)\n",
      "Requirement already satisfied: certifi>=2017.4.17 in c:\\users\\rothomas\\appdata\\local\\continuum\\anaconda3\\lib\\site-packages (from requests->folium) (2019.9.11)\n",
      "Requirement already satisfied: chardet<3.1.0,>=3.0.2 in c:\\users\\rothomas\\appdata\\local\\continuum\\anaconda3\\lib\\site-packages (from requests->folium) (3.0.4)\n",
      "Libraries imported.\n"
     ]
    }
   ],
   "source": [
    "import numpy as np # library to handle data in a vectorized manner\n",
    "\n",
    "import pandas as pd # library for data analsysis\n",
    "pd.set_option('display.max_columns', None)\n",
    "pd.set_option('display.max_rows', None)\n",
    "\n",
    "import json # library to handle JSON files\n",
    "\n",
    "#!pip install geopy\n",
    "#import geopy\n",
    "#from geopy.geocoders import Nominatim # convert an address into latitude and longitude values\n",
    "\n",
    "import requests # library to handle requests\n",
    "from pandas.io.json import json_normalize # tranform JSON file into a pandas dataframe\n",
    "\n",
    "# Matplotlib and associated plotting modules\n",
    "import matplotlib.cm as cm\n",
    "import matplotlib.colors as colors\n",
    "\n",
    "# import k-means from clustering stage\n",
    "from sklearn.cluster import KMeans\n",
    "\n",
    "!pip install folium\n",
    "import folium # map rendering library\n",
    "\n",
    "print('Libraries imported.')"
   ]
  },
  {
   "cell_type": "markdown",
   "metadata": {},
   "source": [
    "### Limited the dataset to Downtown Toronto"
   ]
  },
  {
   "cell_type": "code",
   "execution_count": 18,
   "metadata": {},
   "outputs": [
    {
     "data": {
      "text/html": [
       "<div>\n",
       "<style scoped>\n",
       "    .dataframe tbody tr th:only-of-type {\n",
       "        vertical-align: middle;\n",
       "    }\n",
       "\n",
       "    .dataframe tbody tr th {\n",
       "        vertical-align: top;\n",
       "    }\n",
       "\n",
       "    .dataframe thead th {\n",
       "        text-align: right;\n",
       "    }\n",
       "</style>\n",
       "<table border=\"1\" class=\"dataframe\">\n",
       "  <thead>\n",
       "    <tr style=\"text-align: right;\">\n",
       "      <th></th>\n",
       "      <th>PostalCode</th>\n",
       "      <th>Borough</th>\n",
       "      <th>Neighborhood</th>\n",
       "      <th>Latitude</th>\n",
       "      <th>Longitude</th>\n",
       "    </tr>\n",
       "  </thead>\n",
       "  <tbody>\n",
       "    <tr>\n",
       "      <td>2</td>\n",
       "      <td>M5A</td>\n",
       "      <td>Downtown Toronto</td>\n",
       "      <td>Harbourfront, Regent Park</td>\n",
       "      <td>43.654260</td>\n",
       "      <td>-79.360636</td>\n",
       "    </tr>\n",
       "    <tr>\n",
       "      <td>9</td>\n",
       "      <td>M5B</td>\n",
       "      <td>Downtown Toronto</td>\n",
       "      <td>Ryerson, Garden District</td>\n",
       "      <td>43.657162</td>\n",
       "      <td>-79.378937</td>\n",
       "    </tr>\n",
       "    <tr>\n",
       "      <td>15</td>\n",
       "      <td>M5C</td>\n",
       "      <td>Downtown Toronto</td>\n",
       "      <td>St. James Town</td>\n",
       "      <td>43.651494</td>\n",
       "      <td>-79.375418</td>\n",
       "    </tr>\n",
       "    <tr>\n",
       "      <td>20</td>\n",
       "      <td>M5E</td>\n",
       "      <td>Downtown Toronto</td>\n",
       "      <td>Berczy Park</td>\n",
       "      <td>43.644771</td>\n",
       "      <td>-79.373306</td>\n",
       "    </tr>\n",
       "    <tr>\n",
       "      <td>24</td>\n",
       "      <td>M5G</td>\n",
       "      <td>Downtown Toronto</td>\n",
       "      <td>Central Bay Street</td>\n",
       "      <td>43.657952</td>\n",
       "      <td>-79.387383</td>\n",
       "    </tr>\n",
       "    <tr>\n",
       "      <td>25</td>\n",
       "      <td>M6G</td>\n",
       "      <td>Downtown Toronto</td>\n",
       "      <td>Christie</td>\n",
       "      <td>43.669542</td>\n",
       "      <td>-79.422564</td>\n",
       "    </tr>\n",
       "    <tr>\n",
       "      <td>30</td>\n",
       "      <td>M5H</td>\n",
       "      <td>Downtown Toronto</td>\n",
       "      <td>Adelaide, King, Richmond</td>\n",
       "      <td>43.650571</td>\n",
       "      <td>-79.384568</td>\n",
       "    </tr>\n",
       "    <tr>\n",
       "      <td>36</td>\n",
       "      <td>M5J</td>\n",
       "      <td>Downtown Toronto</td>\n",
       "      <td>Harbourfront East, Toronto Islands, Union Station</td>\n",
       "      <td>43.640816</td>\n",
       "      <td>-79.381752</td>\n",
       "    </tr>\n",
       "    <tr>\n",
       "      <td>42</td>\n",
       "      <td>M5K</td>\n",
       "      <td>Downtown Toronto</td>\n",
       "      <td>Design Exchange, Toronto Dominion Centre</td>\n",
       "      <td>43.647177</td>\n",
       "      <td>-79.381576</td>\n",
       "    </tr>\n",
       "    <tr>\n",
       "      <td>48</td>\n",
       "      <td>M5L</td>\n",
       "      <td>Downtown Toronto</td>\n",
       "      <td>Commerce Court, Victoria Hotel</td>\n",
       "      <td>43.648198</td>\n",
       "      <td>-79.379817</td>\n",
       "    </tr>\n",
       "    <tr>\n",
       "      <td>80</td>\n",
       "      <td>M5S</td>\n",
       "      <td>Downtown Toronto</td>\n",
       "      <td>Harbord, University of Toronto</td>\n",
       "      <td>43.662696</td>\n",
       "      <td>-79.400049</td>\n",
       "    </tr>\n",
       "    <tr>\n",
       "      <td>84</td>\n",
       "      <td>M5T</td>\n",
       "      <td>Downtown Toronto</td>\n",
       "      <td>Chinatown, Grange Park, Kensington Market</td>\n",
       "      <td>43.653206</td>\n",
       "      <td>-79.400049</td>\n",
       "    </tr>\n",
       "    <tr>\n",
       "      <td>87</td>\n",
       "      <td>M5V</td>\n",
       "      <td>Downtown Toronto</td>\n",
       "      <td>CN Tower, Bathurst Quay, Island airport, Harbo...</td>\n",
       "      <td>43.628947</td>\n",
       "      <td>-79.394420</td>\n",
       "    </tr>\n",
       "    <tr>\n",
       "      <td>91</td>\n",
       "      <td>M4W</td>\n",
       "      <td>Downtown Toronto</td>\n",
       "      <td>Rosedale</td>\n",
       "      <td>43.679563</td>\n",
       "      <td>-79.377529</td>\n",
       "    </tr>\n",
       "    <tr>\n",
       "      <td>92</td>\n",
       "      <td>M5W</td>\n",
       "      <td>Downtown Toronto</td>\n",
       "      <td>Stn A PO Boxes 25 The Esplanade</td>\n",
       "      <td>43.646435</td>\n",
       "      <td>-79.374846</td>\n",
       "    </tr>\n",
       "    <tr>\n",
       "      <td>96</td>\n",
       "      <td>M4X</td>\n",
       "      <td>Downtown Toronto</td>\n",
       "      <td>Cabbagetown, St. James Town</td>\n",
       "      <td>43.667967</td>\n",
       "      <td>-79.367675</td>\n",
       "    </tr>\n",
       "    <tr>\n",
       "      <td>97</td>\n",
       "      <td>M5X</td>\n",
       "      <td>Downtown Toronto</td>\n",
       "      <td>First Canadian Place, Underground city</td>\n",
       "      <td>43.648429</td>\n",
       "      <td>-79.382280</td>\n",
       "    </tr>\n",
       "    <tr>\n",
       "      <td>99</td>\n",
       "      <td>M4Y</td>\n",
       "      <td>Downtown Toronto</td>\n",
       "      <td>Church and Wellesley</td>\n",
       "      <td>43.665860</td>\n",
       "      <td>-79.383160</td>\n",
       "    </tr>\n",
       "  </tbody>\n",
       "</table>\n",
       "</div>"
      ],
      "text/plain": [
       "   PostalCode           Borough  \\\n",
       "2         M5A  Downtown Toronto   \n",
       "9         M5B  Downtown Toronto   \n",
       "15        M5C  Downtown Toronto   \n",
       "20        M5E  Downtown Toronto   \n",
       "24        M5G  Downtown Toronto   \n",
       "25        M6G  Downtown Toronto   \n",
       "30        M5H  Downtown Toronto   \n",
       "36        M5J  Downtown Toronto   \n",
       "42        M5K  Downtown Toronto   \n",
       "48        M5L  Downtown Toronto   \n",
       "80        M5S  Downtown Toronto   \n",
       "84        M5T  Downtown Toronto   \n",
       "87        M5V  Downtown Toronto   \n",
       "91        M4W  Downtown Toronto   \n",
       "92        M5W  Downtown Toronto   \n",
       "96        M4X  Downtown Toronto   \n",
       "97        M5X  Downtown Toronto   \n",
       "99        M4Y  Downtown Toronto   \n",
       "\n",
       "                                         Neighborhood   Latitude  Longitude  \n",
       "2                           Harbourfront, Regent Park  43.654260 -79.360636  \n",
       "9                            Ryerson, Garden District  43.657162 -79.378937  \n",
       "15                                     St. James Town  43.651494 -79.375418  \n",
       "20                                        Berczy Park  43.644771 -79.373306  \n",
       "24                                 Central Bay Street  43.657952 -79.387383  \n",
       "25                                           Christie  43.669542 -79.422564  \n",
       "30                           Adelaide, King, Richmond  43.650571 -79.384568  \n",
       "36  Harbourfront East, Toronto Islands, Union Station  43.640816 -79.381752  \n",
       "42           Design Exchange, Toronto Dominion Centre  43.647177 -79.381576  \n",
       "48                     Commerce Court, Victoria Hotel  43.648198 -79.379817  \n",
       "80                     Harbord, University of Toronto  43.662696 -79.400049  \n",
       "84          Chinatown, Grange Park, Kensington Market  43.653206 -79.400049  \n",
       "87  CN Tower, Bathurst Quay, Island airport, Harbo...  43.628947 -79.394420  \n",
       "91                                           Rosedale  43.679563 -79.377529  \n",
       "92                    Stn A PO Boxes 25 The Esplanade  43.646435 -79.374846  \n",
       "96                        Cabbagetown, St. James Town  43.667967 -79.367675  \n",
       "97             First Canadian Place, Underground city  43.648429 -79.382280  \n",
       "99                               Church and Wellesley  43.665860 -79.383160  "
      ]
     },
     "execution_count": 18,
     "metadata": {},
     "output_type": "execute_result"
    }
   ],
   "source": [
    "toronto = data_e[data_e['Borough'] == 'Downtown Toronto']\n",
    "toronto"
   ]
  },
  {
   "cell_type": "markdown",
   "metadata": {},
   "source": [
    "#### I hardcoded the latitude and longitude for Toronto because I can't get geopy to work..."
   ]
  },
  {
   "cell_type": "code",
   "execution_count": 19,
   "metadata": {},
   "outputs": [
    {
     "name": "stdout",
     "output_type": "stream",
     "text": [
      "The geograpical coordinate of Toronto are 43.65107, -79.347015.\n"
     ]
    }
   ],
   "source": [
    "latitude = 43.651070\n",
    "longitude = -79.347015\n",
    "print('The geograpical coordinate of Toronto are {}, {}.'.format(latitude, longitude))"
   ]
  },
  {
   "cell_type": "markdown",
   "metadata": {},
   "source": [
    "### Oh look, a map of Toronto!\n",
    "\n",
    "### Actually, the map isn't showing in GitHub so you may have to download the notebook and run it to see the image"
   ]
  },
  {
   "cell_type": "code",
   "execution_count": 26,
   "metadata": {},
   "outputs": [
    {
     "data": {
      "text/html": [
       "<div style=\"width:100%;\"><div style=\"position:relative;width:100%;height:0;padding-bottom:60%;\"><iframe src=\"data:text/html;charset=utf-8;base64,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\" style=\"position:absolute;width:100%;height:100%;left:0;top:0;border:none !important;\" allowfullscreen webkitallowfullscreen mozallowfullscreen></iframe></div></div>"
      ],
      "text/plain": [
       "<folium.folium.Map at 0x2352af0a148>"
      ]
     },
     "execution_count": 26,
     "metadata": {},
     "output_type": "execute_result"
    }
   ],
   "source": [
    "# create map of Manhattan using latitude and longitude values\n",
    "map_toronto = folium.Map(location=[latitude, longitude], zoom_start=12)\n",
    "\n",
    "# add markers to map\n",
    "for lat, lng, label in zip(toronto['Latitude'], toronto['Longitude'], toronto['Neighborhood']):\n",
    "    label = folium.Popup(label, parse_html=True)\n",
    "    folium.CircleMarker(\n",
    "        [lat, lng],\n",
    "        radius=5,\n",
    "        popup=label,\n",
    "        color='blue',\n",
    "        fill=True,\n",
    "        fill_color='#3186cc',\n",
    "        fill_opacity=0.7,\n",
    "        parse_html=False).add_to(map_toronto)  \n",
    "    \n",
    "map_toronto"
   ]
  }
 ],
 "metadata": {
  "colab": {
   "collapsed_sections": [],
   "name": "Coursera Assignment.ipynb",
   "provenance": []
  },
  "kernelspec": {
   "display_name": "Python 3",
   "language": "python",
   "name": "python3"
  },
  "language_info": {
   "codemirror_mode": {
    "name": "ipython",
    "version": 3
   },
   "file_extension": ".py",
   "mimetype": "text/x-python",
   "name": "python",
   "nbconvert_exporter": "python",
   "pygments_lexer": "ipython3",
   "version": "3.7.4"
  }
 },
 "nbformat": 4,
 "nbformat_minor": 2
}
